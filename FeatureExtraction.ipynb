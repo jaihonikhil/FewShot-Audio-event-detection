{
  "nbformat": 4,
  "nbformat_minor": 0,
  "metadata": {
    "colab": {
      "name": "FeatureExtraction.ipynb",
      "provenance": [],
      "collapsed_sections": []
    },
    "kernelspec": {
      "name": "python3",
      "display_name": "Python 3"
    },
    "language_info": {
      "name": "python"
    },
    "accelerator": "GPU"
  },
  "cells": [
    {
      "cell_type": "markdown",
      "metadata": {
        "id": "mavH6Imuqnv4"
      },
      "source": [
        "**FEATURE EXTRACTION CODE FOR BOTH THE BASELINES**"
      ]
    },
    {
      "cell_type": "code",
      "metadata": {
        "id": "VxgRTYzODDt5"
      },
      "source": [
        "import wave\n",
        "import gc\n",
        "import librosa\n",
        "import librosa.display\n",
        "import IPython\n",
        "import numpy as np\n",
        "import tensorflow as tf\n",
        "import pandas as pd\n",
        "import sys\n",
        "from PIL import Image # pip install Pillow\n",
        "from PIL import ImageOps\n",
        "from resizeimage import resizeimage\n",
        "import matplotlib.pyplot as plt\n",
        "from tqdm import tqdm\n",
        "from pathlib import Path\n",
        "from tensorflow.keras import layers\n",
        "from tensorflow.keras.models import Sequential\n",
        "from tensorflow.python.client import device_lib"
      ],
      "execution_count": null,
      "outputs": []
    },
    {
      "cell_type": "code",
      "metadata": {
        "id": "nhO9aSSGnMFo"
      },
      "source": [
        "!pip install python-resize-image"
      ],
      "execution_count": null,
      "outputs": []
    },
    {
      "cell_type": "code",
      "metadata": {
        "id": "oNHl3ze2Fm5i"
      },
      "source": [
        "from google.colab import drive\n",
        "drive.mount('/content/drive')"
      ],
      "execution_count": null,
      "outputs": []
    },
    {
      "cell_type": "code",
      "metadata": {
        "id": "QaLmjIRdEpMa"
      },
      "source": [
        "dataframe = pd.read_csv(\"/content/drive/MyDrive/urbansound8k/UrbanSound8K.csv\")"
      ],
      "execution_count": null,
      "outputs": []
    },
    {
      "cell_type": "code",
      "metadata": {
        "id": "nc3dfi0qEsap"
      },
      "source": [
        "dataframe['class'].value_counts()"
      ],
      "execution_count": null,
      "outputs": []
    },
    {
      "cell_type": "code",
      "metadata": {
        "id": "M5Aa48XxEwK3"
      },
      "source": [
        "###VISUALISING AUDIO FILE\n",
        "y, sr = librosa.load('/content/drive/MyDrive/urbansound8k/fold1/101415-3-0-2.wav)\n",
        "plt.figure()\n",
        "plt.subplot(3, 2, 1)\n",
        "spectrogram = librosa.amplitude_to_db(np.abs(librosa.stft(y)), ref=np.max)\n",
        "spectrogram = librosa.feature.melspectrogram(S = spectrogram**2)\n",
        "#### used to display audio file and specto plot\n",
        "librosa.display.specshow(spectrogram, y_axis='linear')\n",
        "signal = plt.subplot(2, 2, 3)\n",
        "signal.plot(y, color=\"c\")"
      ],
      "execution_count": null,
      "outputs": []
    },
    {
      "cell_type": "code",
      "metadata": {
        "id": "Z_fUZDbPnD9j"
      },
      "source": [
        "# Creating the classes directories from Class0 to Class9\n",
        "specdirectory = \"/content/drive/MyDrive/urbansound8k/spectrograms/\"\n",
        "for i in range(0,10):\n",
        "    Path(specdirectory + \"class_\" + str(i)).mkdir(parents=True, exist_ok=True)"
      ],
      "execution_count": null,
      "outputs": []
    },
    {
      "cell_type": "code",
      "metadata": {
        "id": "2CGVhawCE6Nn"
      },
      "source": [
        "def genspectrograms(row):\n",
        "    classes = row[\"classID\"]\n",
        "    spect_directory = \"class_\" + str(classes)\n",
        "    rawf = row[\"slice_file_name\"][:-4]\n",
        "    y, sr = librosa.load('/content/drive/MyDrive/urbansound8k/' + \"fold\" + str(row[\"fold\"]) + \"/\" + row[\"slice_file_name\"])\n",
        "    y=librosa.util.normalize(y)\n",
        "    spectrogram = librosa.amplitude_to_db(np.abs(librosa.stft(y)), ref=np.max)\n",
        "    ## for chroma mfcc and use \n",
        "    ## librosa.feature.mfcc(y=y, sr=sr)\n",
        "    ## librosa.feature.chroma_stft\n",
        "    spectrogram = librosa.feature.melspectrogram(S = spectrogram**2)\n",
        "    librosa.display.specshow(spectrogram)\n",
        "    image = plt.imshow(spectrogram)\n",
        "    plt.savefig(specdirectory + spect_directory + \"/\" + rawf + \".png\")\n",
        "    spec=Image.open(specdirectory + spect_directory + \"/\" + rawf + \".png\")\n",
        "    i=0\n",
        "    imageSize = image.size\n",
        "    ## resizing images to average size\n",
        "    if(imageSize[0]<128 or imageSize[1]<120):\n",
        "      i=i+1\n",
        "    invert_im = spec.convert(\"RGB\") \n",
        "    invert_im = ImageOps.invert(invert_im)\n",
        "    imageBox = invert_im.getbbox()\n",
        "    cropped=spec.crop(imageBox)\n",
        "    im = resizeimage.resize_cover(cropped, [128, 120])\n",
        "    im.save(spectrograms_directory + spect_directory + \"/\" + rawf + \".png\") \n",
        "    np.save(rawf +str(i)+\".npy\",spectrogram)\n",
        "    plt.clf()\n",
        "    plt.close('all')\n",
        "    gc.collect()"
      ],
      "execution_count": null,
      "outputs": []
    },
    {
      "cell_type": "code",
      "metadata": {
        "id": "eq-5bV2LpYuF"
      },
      "source": [
        "#configs\n",
        "tqdm.pandas()"
      ],
      "execution_count": null,
      "outputs": []
    },
    {
      "cell_type": "code",
      "metadata": {
        "id": "NgjtTPbnE_RU"
      },
      "source": [
        "dataframe.progress_apply(genspectrograms, axis=1)"
      ],
      "execution_count": null,
      "outputs": []
    }
  ]
}