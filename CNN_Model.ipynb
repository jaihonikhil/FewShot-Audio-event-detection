{
  "nbformat": 4,
  "nbformat_minor": 0,
  "metadata": {
    "colab": {
      "name": "CNN_Model.ipynb",
      "provenance": [],
      "collapsed_sections": []
    },
    "kernelspec": {
      "name": "python3",
      "display_name": "Python 3"
    },
    "language_info": {
      "name": "python"
    },
    "accelerator": "GPU"
  },
  "cells": [
    {
      "cell_type": "code",
      "metadata": {
        "id": "X421ElED86z8"
      },
      "source": [
        "import librosa\n",
        "import librosa.display\n",
        "import IPython\n",
        "import os\n",
        "import numpy as np\n",
        "from PIL import Image\n",
        "import numpy as np\n",
        "import tensorflow as tf\n",
        "from tensorflow.keras.callbacks import EarlyStopping, ModelCheckpoint\n",
        "import pandas as pd\n",
        "import matplotlib.pyplot as plt\n",
        "from tqdm import tqdm\n",
        "from pathlib import Path\n",
        "from tensorflow.keras import layers\n",
        "from tensorflow.keras.models import Sequential\n",
        "from tensorflow.keras.optimizers import Adam"
      ],
      "execution_count": null,
      "outputs": []
    },
    {
      "cell_type": "code",
      "metadata": {
        "colab": {
          "base_uri": "https://localhost:8080/"
        },
        "id": "H1aQDa7r9Y4C",
        "outputId": "c7f2d6d4-eabe-41b3-dd33-3eb3bd55efba"
      },
      "source": [
        "from google.colab import drive\n",
        "drive.mount('/content/drive')"
      ],
      "execution_count": null,
      "outputs": [
        {
          "output_type": "stream",
          "text": [
            "Mounted at /content/drive\n"
          ],
          "name": "stdout"
        }
      ]
    },
    {
      "cell_type": "markdown",
      "metadata": {
        "id": "aW96AMSa5dOI"
      },
      "source": [
        "**LOADING THE DATA**"
      ]
    },
    {
      "cell_type": "markdown",
      "metadata": {
        "id": "XBDiGkk56Rdc"
      },
      "source": [
        "The training set consists of 6 classes and 20 samples from each of the two validation classes. The validation set consists of these two classes except the 20 samples "
      ]
    },
    {
      "cell_type": "code",
      "metadata": {
        "id": "im5cdW063K_V"
      },
      "source": [
        "file=\"/content/drive/MyDrive/urbansound8k/cnn_train\"\n",
        "files_in_directory = os.listdir(file) #EDIT THIS FOR ANOTHER DIRECTORY\n",
        "examples = [file for file in files_in_directory]\n",
        "\n",
        "print(examples)\n",
        "XXtrain=[]\n",
        "YYtrain=[]\n",
        "from matplotlib import pyplot as plt\n",
        "for e in range(len(examples)-1):\n",
        "  path=file+\"/\"+\"class_\"+str(e)\n",
        "  f=os.listdir(path)\n",
        "  # print(path)\n",
        "  print(e)\n",
        "  for foo in f:\n",
        "    # print(foo)\n",
        "    jk=np.array(Image.open(path+\"/\"+foo))\n",
        "    XXtrain.append(jk)\n",
        "    YYtrain.append(e)\n",
        "lxtrain=np.array(XXtrain)\n",
        "lytrain=np.array(YYtrain)"
      ],
      "execution_count": null,
      "outputs": []
    },
    {
      "cell_type": "code",
      "metadata": {
        "id": "aWxWZftSZd5f"
      },
      "source": [
        "! rm -r /content/drive/MyDrive/urbansound8k/cnn_eval/.ipynb_checkpoints"
      ],
      "execution_count": null,
      "outputs": []
    },
    {
      "cell_type": "code",
      "metadata": {
        "id": "gGyoF50QQJPi"
      },
      "source": [
        "np.save('/content/drive/MyDrive/urbansound8k/cnn_train/lxtrain', lxtrain )\n",
        "np.save('/content/drive/MyDrive/urbansound8k/cnn_train/lytrain', lytrain )"
      ],
      "execution_count": null,
      "outputs": []
    },
    {
      "cell_type": "code",
      "metadata": {
        "id": "SIeFZzo0NPe8"
      },
      "source": [
        "! rm -r /content/drive/MyDrive/urbansound8k/cnn_train/class_0/.ipynb_checkpoints"
      ],
      "execution_count": null,
      "outputs": []
    },
    {
      "cell_type": "code",
      "metadata": {
        "id": "O70Joq8I3O0o"
      },
      "source": [
        "file=\"/content/drive/MyDrive/urbansound8k/cnn_eval\"\n",
        "files_in_directory = os.listdir(file)#EDIT THIS FOR ANOTHER DIRECTORY\n",
        "examples = [file for file in files_in_directory]\n",
        "XXtest=[]\n",
        "YYtest=[]\n",
        "print((examples))\n",
        "from matplotlib import pyplot as plt\n",
        "for e in range(len(examples)):\n",
        "  path=file+\"/\"+\"class_\"+str(e+6)\n",
        "  f=os.listdir(path)\n",
        "  for foo in f:\n",
        "    jk=np.array(Image.open(path+\"/\"+foo))\n",
        "    XXtest.append(jk)\n",
        "    YYtest.append(e+6)\n",
        "lxtest=np.array(XXtest)\n",
        "lytest=np.array(YYtest)"
      ],
      "execution_count": null,
      "outputs": []
    },
    {
      "cell_type": "code",
      "metadata": {
        "colab": {
          "base_uri": "https://localhost:8080/"
        },
        "id": "DI4hVo2KEKBX",
        "outputId": "cf092734-e1d5-49fa-d036-f83efc70066d"
      },
      "source": [
        "lytest.shape"
      ],
      "execution_count": null,
      "outputs": [
        {
          "output_type": "execute_result",
          "data": {
            "text/plain": [
              "(1264,)"
            ]
          },
          "metadata": {
            "tags": []
          },
          "execution_count": 5
        }
      ]
    },
    {
      "cell_type": "code",
      "metadata": {
        "id": "4NesjD7KLnkZ"
      },
      "source": [
        "np.save('/content/drive/MyDrive/urbansound8k/cnn_eval/lxtest', lxtest )"
      ],
      "execution_count": null,
      "outputs": []
    },
    {
      "cell_type": "code",
      "metadata": {
        "id": "BofHDwZML8Sc"
      },
      "source": [
        "np.save('/content/drive/MyDrive/urbansound8k/cnn_eval/lytest', lytest )"
      ],
      "execution_count": null,
      "outputs": []
    },
    {
      "cell_type": "markdown",
      "metadata": {
        "id": "-mrsTbOu5m3u"
      },
      "source": [
        "**DEFINING THE MODEL**"
      ]
    },
    {
      "cell_type": "code",
      "metadata": {
        "id": "yuyeKi9V-oJl"
      },
      "source": [
        "model = Sequential()\n",
        "model.add(layers.Conv2D(32, 7, strides =(4,4), padding=\"same\", input_shape=(120, 128, 4)))\n",
        "model.add(layers.BatchNormalization())\n",
        "model.add(layers.Activation(\"relu\"))\n",
        "model.add(layers.Dropout(0.5))\n",
        "model.add(layers.MaxPooling2D((4,4)))\n",
        "model.add(layers.Conv2D(128, 4, padding=\"same\"))\n",
        "model.add(layers.BatchNormalization())\n",
        "model.add(layers.Activation(\"relu\"))\n",
        "model.add(layers.Dropout(0.5))\n",
        "model.add(layers.Flatten())\n",
        "model.add(layers.Dense(256))\n",
        "model.add(layers.BatchNormalization())\n",
        "model.add(layers.Activation(\"relu\"))\n",
        "model.add(layers.Dropout(0.5))\n",
        "model.add(layers.Dense(10, activation='softmax'))\n",
        "\n"
      ],
      "execution_count": null,
      "outputs": []
    },
    {
      "cell_type": "markdown",
      "metadata": {
        "id": "Ib2IReEL5uBA"
      },
      "source": [
        "**TRAINING AND EVALUATION**"
      ]
    },
    {
      "cell_type": "markdown",
      "metadata": {
        "id": "w7j0A34Y6q-w"
      },
      "source": [
        "The evaluation criteria used for the model is the best accuracy obtained on the validation set\n"
      ]
    },
    {
      "cell_type": "code",
      "metadata": {
        "id": "1RYfNDxD5H1E"
      },
      "source": [
        "### WE USE EVALUATION CRITERIA AS THE BEST ACCURACY OBTAINED ON VALIDATION SET\n",
        "adam = Adam(learning_rate=0.0003)\n",
        "model.compile(optimizer=adam, loss='sparse_categorical_crossentropy', weighted_metrics=['acc'])"
      ],
      "execution_count": null,
      "outputs": []
    },
    {
      "cell_type": "code",
      "metadata": {
        "id": "hGROe42r5Ifq"
      },
      "source": [
        "es = EarlyStopping(monitor='val_loss', verbose=10, patience=50)\n",
        "mc = ModelCheckpoint('/content/drive/MyDrive/urbansound8k/cnn_6.h5', monitor='val_loss', save_best_only=True, verbose=1)"
      ],
      "execution_count": null,
      "outputs": []
    },
    {
      "cell_type": "code",
      "metadata": {
        "id": "FPy_QXx6_0FP"
      },
      "source": [
        "model_history = model.fit(lxtrain, lytrain, validation_data=(lxtest, lytest), epochs=30, callbacks=[es, mc], workers=32, max_queue_size=20)"
      ],
      "execution_count": null,
      "outputs": []
    },
    {
      "cell_type": "code",
      "metadata": {
        "id": "D89wYyR_E8vR"
      },
      "source": [
        "ypred = np.argmax(model.predict(lxtest), axis=-1)"
      ],
      "execution_count": null,
      "outputs": []
    },
    {
      "cell_type": "code",
      "metadata": {
        "id": "pjyd196-Ft9y"
      },
      "source": [
        "df = pd.read_csv(\"eval.csv\")\n",
        "df[\"ypred\"] = ypred\n",
        "df.to_csv(\"eval.csv\", index=False)"
      ],
      "execution_count": null,
      "outputs": []
    },
    {
      "cell_type": "code",
      "metadata": {
        "id": "sdw4uCCP3sns"
      },
      "source": [
        "model.summary()"
      ],
      "execution_count": null,
      "outputs": []
    }
  ]
}